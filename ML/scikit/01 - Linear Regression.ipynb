{
 "cells": [
  {
   "cell_type": "code",
   "execution_count": 2,
   "metadata": {},
   "outputs": [],
   "source": [
    "import matplotlib.pyplot as plt\n",
    "import numpy as np\n",
    "from sklearn import linear_model\n",
    "from sklearn.metrics import mean_squared_error, r2_score"
   ]
  },
  {
   "cell_type": "code",
   "execution_count": 3,
   "metadata": {},
   "outputs": [],
   "source": [
    "X_train = np.array([1, 2, 3, 4, 5, 6, 7, 8, 9, 10])\n",
    "Y_train = np.array([1, 2.5, 2, 3, 5, 4, 5.5, 7, 6, 8])\n",
    "\n",
    "# Transform samples into 10-line, 1-column matrix\n",
    "X_train = X_train.reshape((-1, 1))"
   ]
  },
  {
   "cell_type": "code",
   "execution_count": 4,
   "metadata": {},
   "outputs": [],
   "source": [
    "# Create linear regression object\n",
    "\n",
    "# http://scikit-learn.org/stable/modules/generated/sklearn.linear_model.LinearRegression.html \n",
    "#regr = linear_model.LinearRegression()\n",
    "\n",
    "# http://scikit-learn.org/stable/modules/generated/sklearn.linear_model.SGDRegressor.html\n",
    "regr = linear_model.SGDRegressor(max_iter=1000, tol=1e-3)"
   ]
  },
  {
   "cell_type": "code",
   "execution_count": 5,
   "metadata": {},
   "outputs": [
    {
     "data": {
      "text/plain": [
       "['linearregressionmodel.pkl']"
      ]
     },
     "execution_count": 5,
     "metadata": {},
     "output_type": "execute_result"
    }
   ],
   "source": [
    "# Train the model\n",
    "regr.fit(X_train, Y_train)\n",
    "\n",
    "# Save model for future use\n",
    "from sklearn.externals import joblib\n",
    "joblib.dump(regr, 'linearregressionmodel.pkl')"
   ]
  },
  {
   "cell_type": "code",
   "execution_count": 7,
   "metadata": {},
   "outputs": [],
   "source": [
    "# Make predictions\n",
    "Y_pred = regr.predict(X_train)"
   ]
  },
  {
   "cell_type": "code",
   "execution_count": 8,
   "metadata": {},
   "outputs": [
    {
     "name": "stdout",
     "output_type": "stream",
     "text": [
      "Coefficient: [0.75765175] \n",
      "Intercept: [0.11430432] \n",
      "Variance: 0.909635139744757 \n",
      "RMSE: 0.42381119459709 \n"
     ]
    }
   ],
   "source": [
    "# Print coefficient and intercept\n",
    "print(\"Coefficient: %s \" % regr.coef_)\n",
    "print(\"Intercept: %s \" % regr.intercept_)\n",
    "\n",
    "# Print variance and RMSE\n",
    "print(\"Variance: %s \" % r2_score(Y_train, Y_pred))\n",
    "print(\"RMSE: %s \" % mean_squared_error(Y_train, Y_pred))"
   ]
  },
  {
   "cell_type": "code",
   "execution_count": 9,
   "metadata": {},
   "outputs": [
    {
     "data": {
      "image/png": "[encoded data removed]",
      "text/plain": [
       "<Figure size 432x288 with 1 Axes>"
      ]
     },
     "metadata": {},
     "output_type": "display_data"
    }
   ],
   "source": [
    "# Plot outputs\n",
    "plt.scatter(X_train, Y_train,  color='blue')\n",
    "plt.scatter(X_train, Y_pred, color='orange')\n",
    "plt.plot(X_train, Y_pred, color='orange', linewidth=1)\n",
    "\n",
    "plt.show()"
   ]
  },
  {
   "cell_type": "code",
   "execution_count": null,
   "metadata": {},
   "outputs": [],
   "source": []
  }
 ],
 "metadata": {
  "kernelspec": {
   "display_name": "conda_tensorflow_p36",
   "language": "python",
   "name": "conda_tensorflow_p36"
  },
  "language_info": {
   "codemirror_mode": {
    "name": "ipython",
    "version": 3
   },
   "file_extension": ".py",
   "mimetype": "text/x-python",
   "name": "python",
   "nbconvert_exporter": "python",
   "pygments_lexer": "ipython3",
   "version": "3.6.5"
  }
 },
 "nbformat": 4,
 "nbformat_minor": 2
}
